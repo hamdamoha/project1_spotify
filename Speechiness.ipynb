{
 "cells": [
  {
   "cell_type": "code",
   "execution_count": 1,
   "id": "c54ba361",
   "metadata": {},
   "outputs": [],
   "source": [
    "import pandas as pd\n",
    "import matplotlib.pyplot as plt\n",
    "import numpy as np"
   ]
  },
  {
   "cell_type": "code",
   "execution_count": 2,
   "id": "35c612bd",
   "metadata": {},
   "outputs": [],
   "source": [
    "top_track_df=pd.read_csv('AllYears.csv')"
   ]
  },
  {
   "cell_type": "code",
   "execution_count": 3,
   "id": "fdbe4f68",
   "metadata": {},
   "outputs": [
    {
     "data": {
      "text/html": [
       "<div>\n",
       "<style scoped>\n",
       "    .dataframe tbody tr th:only-of-type {\n",
       "        vertical-align: middle;\n",
       "    }\n",
       "\n",
       "    .dataframe tbody tr th {\n",
       "        vertical-align: top;\n",
       "    }\n",
       "\n",
       "    .dataframe thead th {\n",
       "        text-align: right;\n",
       "    }\n",
       "</style>\n",
       "<table border=\"1\" class=\"dataframe\">\n",
       "  <thead>\n",
       "    <tr style=\"text-align: right;\">\n",
       "      <th></th>\n",
       "      <th>count</th>\n",
       "      <th>mean</th>\n",
       "      <th>std</th>\n",
       "      <th>min</th>\n",
       "      <th>25%</th>\n",
       "      <th>50%</th>\n",
       "      <th>75%</th>\n",
       "      <th>max</th>\n",
       "    </tr>\n",
       "    <tr>\n",
       "      <th>year</th>\n",
       "      <th></th>\n",
       "      <th></th>\n",
       "      <th></th>\n",
       "      <th></th>\n",
       "      <th></th>\n",
       "      <th></th>\n",
       "      <th></th>\n",
       "      <th></th>\n",
       "    </tr>\n",
       "  </thead>\n",
       "  <tbody>\n",
       "    <tr>\n",
       "      <th>2017</th>\n",
       "      <td>100.0</td>\n",
       "      <td>0.114204</td>\n",
       "      <td>0.109172</td>\n",
       "      <td>0.0232</td>\n",
       "      <td>0.047325</td>\n",
       "      <td>0.06170</td>\n",
       "      <td>0.12800</td>\n",
       "      <td>0.505</td>\n",
       "    </tr>\n",
       "    <tr>\n",
       "      <th>2018</th>\n",
       "      <td>100.0</td>\n",
       "      <td>0.121723</td>\n",
       "      <td>0.107943</td>\n",
       "      <td>0.0280</td>\n",
       "      <td>0.046700</td>\n",
       "      <td>0.08545</td>\n",
       "      <td>0.14425</td>\n",
       "      <td>0.530</td>\n",
       "    </tr>\n",
       "    <tr>\n",
       "      <th>2019</th>\n",
       "      <td>100.0</td>\n",
       "      <td>0.127341</td>\n",
       "      <td>0.111159</td>\n",
       "      <td>0.0259</td>\n",
       "      <td>0.046975</td>\n",
       "      <td>0.08480</td>\n",
       "      <td>0.17850</td>\n",
       "      <td>0.467</td>\n",
       "    </tr>\n",
       "    <tr>\n",
       "      <th>2020</th>\n",
       "      <td>50.0</td>\n",
       "      <td>0.124064</td>\n",
       "      <td>0.116877</td>\n",
       "      <td>0.0290</td>\n",
       "      <td>0.048325</td>\n",
       "      <td>0.07005</td>\n",
       "      <td>0.15625</td>\n",
       "      <td>0.487</td>\n",
       "    </tr>\n",
       "    <tr>\n",
       "      <th>2021</th>\n",
       "      <td>50.0</td>\n",
       "      <td>0.081374</td>\n",
       "      <td>0.057164</td>\n",
       "      <td>0.0284</td>\n",
       "      <td>0.046125</td>\n",
       "      <td>0.06315</td>\n",
       "      <td>0.09430</td>\n",
       "      <td>0.286</td>\n",
       "    </tr>\n",
       "  </tbody>\n",
       "</table>\n",
       "</div>"
      ],
      "text/plain": [
       "      count      mean       std     min       25%      50%      75%    max\n",
       "year                                                                      \n",
       "2017  100.0  0.114204  0.109172  0.0232  0.047325  0.06170  0.12800  0.505\n",
       "2018  100.0  0.121723  0.107943  0.0280  0.046700  0.08545  0.14425  0.530\n",
       "2019  100.0  0.127341  0.111159  0.0259  0.046975  0.08480  0.17850  0.467\n",
       "2020   50.0  0.124064  0.116877  0.0290  0.048325  0.07005  0.15625  0.487\n",
       "2021   50.0  0.081374  0.057164  0.0284  0.046125  0.06315  0.09430  0.286"
      ]
     },
     "execution_count": 3,
     "metadata": {},
     "output_type": "execute_result"
    }
   ],
   "source": [
    "speech_df = top_track_df.groupby(by=\"year\")['speechiness'].describe()\n",
    "\n",
    "speech_df"
   ]
  },
  {
   "cell_type": "code",
   "execution_count": 8,
   "id": "361a39e0",
   "metadata": {},
   "outputs": [
    {
     "data": {
      "image/png": "[encoded data removed]",
      "text/plain": [
       "<Figure size 432x288 with 1 Axes>"
      ]
     },
     "metadata": {
      "needs_background": "light"
     },
     "output_type": "display_data"
    }
   ],
   "source": [
    "mean_speech = speech_df['mean'].tolist()\n",
    "x_axis = np.arange(len(mean_speech))\n",
    "\n",
    "plt.title(\"Mean Speechiness over time\")\n",
    "plt.xlabel(\"Year\")\n",
    "plt.ylabel(\"Speechiness\")\n",
    "\n",
    "tick_locations = [value for value in x_axis]\n",
    "plt.xticks(tick_locations, ['2017', '2018', '2019', '2020', '2021'])\n",
    "\n",
    "plt.bar(x_axis, mean_speech, color='b', alpha=0.5, align=\"center\");"
   ]
  },
  {
   "cell_type": "code",
   "execution_count": null,
   "id": "672f22db",
   "metadata": {},
   "outputs": [],
   "source": []
  }
 ],
 "metadata": {
  "kernelspec": {
   "display_name": "Python 3 (ipykernel)",
   "language": "python",
   "name": "python3"
  },
  "language_info": {
   "codemirror_mode": {
    "name": "ipython",
    "version": 3
   },
   "file_extension": ".py",
   "mimetype": "text/x-python",
   "name": "python",
   "nbconvert_exporter": "python",
   "pygments_lexer": "ipython3",
   "version": "3.9.12"
  }
 },
 "nbformat": 4,
 "nbformat_minor": 5
}
